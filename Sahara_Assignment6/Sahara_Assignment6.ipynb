{
 "cells": [
  {
   "cell_type": "code",
   "execution_count": 1,
   "metadata": {},
   "outputs": [],
   "source": [
    "from tensorflow.keras.models import Sequential\n",
    "from tensorflow.keras.layers import Dense, Convolution2D, MaxPooling2D, Flatten"
   ]
  },
  {
   "cell_type": "code",
   "execution_count": 2,
   "metadata": {},
   "outputs": [],
   "source": [
    "from tensorflow.keras.preprocessing.image import ImageDataGenerator"
   ]
  },
  {
   "cell_type": "code",
   "execution_count": 3,
   "metadata": {},
   "outputs": [],
   "source": [
    "train_datagen = ImageDataGenerator(rescale= 1./255, shear_range = 0.2, zoom_range = 0.2, horizontal_flip = True)"
   ]
  },
  {
   "cell_type": "code",
   "execution_count": 4,
   "metadata": {},
   "outputs": [
    {
     "name": "stdout",
     "output_type": "stream",
     "text": [
      "Found 240 images belonging to 4 classes.\n",
      "Found 60 images belonging to 4 classes.\n"
     ]
    }
   ],
   "source": [
    "x_train = train_datagen.flow_from_directory(r\"DataSetFruits\\train\", target_size = (64,64))\n",
    "x_test = train_datagen.flow_from_directory(r\"DataSetFruits\\test\", target_size = (64,64))"
   ]
  },
  {
   "cell_type": "code",
   "execution_count": 5,
   "metadata": {},
   "outputs": [],
   "source": [
    "cnn = Sequential()"
   ]
  },
  {
   "cell_type": "code",
   "execution_count": 6,
   "metadata": {},
   "outputs": [
    {
     "name": "stdout",
     "output_type": "stream",
     "text": [
      "WARNING:tensorflow:From C:\\Users\\sahar\\Anaconda3\\lib\\site-packages\\tensorflow\\python\\ops\\init_ops.py:1251: calling VarianceScaling.__init__ (from tensorflow.python.ops.init_ops) with dtype is deprecated and will be removed in a future version.\n",
      "Instructions for updating:\n",
      "Call initializer instance with the dtype argument instead of passing it to the constructor\n"
     ]
    }
   ],
   "source": [
    "cnn.add(Convolution2D(32, (3,3), input_shape=(64,64, 3)))\n",
    "cnn.add(MaxPooling2D((2,2)))"
   ]
  },
  {
   "cell_type": "code",
   "execution_count": 7,
   "metadata": {},
   "outputs": [],
   "source": [
    "cnn.add(Flatten())"
   ]
  },
  {
   "cell_type": "code",
   "execution_count": 8,
   "metadata": {},
   "outputs": [
    {
     "name": "stdout",
     "output_type": "stream",
     "text": [
      "WARNING:tensorflow:From C:\\Users\\sahar\\Anaconda3\\lib\\site-packages\\tensorflow\\python\\keras\\initializers.py:119: calling RandomUniform.__init__ (from tensorflow.python.ops.init_ops) with dtype is deprecated and will be removed in a future version.\n",
      "Instructions for updating:\n",
      "Call initializer instance with the dtype argument instead of passing it to the constructor\n"
     ]
    }
   ],
   "source": [
    "cnn.add(Dense(units = 128 , kernel_initializer = \"random_uniform\", activation = \"relu\"))"
   ]
  },
  {
   "cell_type": "code",
   "execution_count": 9,
   "metadata": {},
   "outputs": [],
   "source": [
    "cnn.add(Dense(units = 4 , kernel_initializer = \"random_uniform\", activation = \"softmax\"))"
   ]
  },
  {
   "cell_type": "code",
   "execution_count": 10,
   "metadata": {},
   "outputs": [],
   "source": [
    "cnn.compile(optimizer = \"rmsprop\", loss = \"categorical_crossentropy\", metrics = [\"accuracy\"])"
   ]
  },
  {
   "cell_type": "code",
   "execution_count": 11,
   "metadata": {},
   "outputs": [
    {
     "name": "stdout",
     "output_type": "stream",
     "text": [
      "Epoch 1/15\n"
     ]
    },
    {
     "name": "stderr",
     "output_type": "stream",
     "text": [
      "C:\\Users\\sahar\\Anaconda3\\lib\\site-packages\\PIL\\Image.py:993: UserWarning: Palette images with Transparency expressed in bytes should be converted to RGBA images\n",
      "  \"Palette images with Transparency expressed in bytes should be \"\n",
      "C:\\Users\\sahar\\Anaconda3\\lib\\site-packages\\PIL\\Image.py:993: UserWarning: Palette images with Transparency expressed in bytes should be converted to RGBA images\n",
      "  \"Palette images with Transparency expressed in bytes should be \"\n"
     ]
    },
    {
     "name": "stdout",
     "output_type": "stream",
     "text": [
      "8/7 [================================] - 5s 633ms/step - loss: 4.9111 - acc: 0.2750 - val_loss: 1.5184 - val_acc: 0.3500\n",
      "Epoch 2/15\n",
      "8/7 [================================] - 5s 598ms/step - loss: 1.1368 - acc: 0.5208 - val_loss: 0.8851 - val_acc: 0.7667\n",
      "Epoch 3/15\n",
      "8/7 [================================] - 4s 536ms/step - loss: 0.7251 - acc: 0.7458 - val_loss: 0.9055 - val_acc: 0.6500\n",
      "Epoch 4/15\n",
      "8/7 [================================] - 4s 537ms/step - loss: 0.7336 - acc: 0.7167 - val_loss: 0.6721 - val_acc: 0.8167\n",
      "Epoch 5/15\n",
      "8/7 [================================] - 4s 538ms/step - loss: 0.7003 - acc: 0.7458 - val_loss: 0.6466 - val_acc: 0.7833\n",
      "Epoch 6/15\n",
      "8/7 [================================] - 4s 541ms/step - loss: 0.5110 - acc: 0.8250 - val_loss: 0.5591 - val_acc: 0.8500\n",
      "Epoch 7/15\n",
      "8/7 [================================] - 4s 509ms/step - loss: 0.5356 - acc: 0.8125 - val_loss: 0.5487 - val_acc: 0.8667\n",
      "Epoch 8/15\n",
      "8/7 [================================] - 4s 504ms/step - loss: 0.4318 - acc: 0.8208 - val_loss: 0.5611 - val_acc: 0.8167\n",
      "Epoch 9/15\n",
      "8/7 [================================] - 5s 613ms/step - loss: 0.4157 - acc: 0.8333 - val_loss: 0.6325 - val_acc: 0.9000\n",
      "Epoch 10/15\n",
      "8/7 [================================] - 4s 514ms/step - loss: 0.5036 - acc: 0.8458 - val_loss: 0.5717 - val_acc: 0.8333\n",
      "Epoch 11/15\n",
      "8/7 [================================] - 4s 521ms/step - loss: 0.3862 - acc: 0.8458 - val_loss: 0.4892 - val_acc: 0.9000\n",
      "Epoch 12/15\n",
      "8/7 [================================] - 4s 509ms/step - loss: 0.3184 - acc: 0.8750 - val_loss: 0.5991 - val_acc: 0.8000\n",
      "Epoch 13/15\n",
      "8/7 [================================] - 5s 579ms/step - loss: 0.2531 - acc: 0.9208 - val_loss: 0.5539 - val_acc: 0.8500\n",
      "Epoch 14/15\n",
      "8/7 [================================] - 4s 526ms/step - loss: 0.2367 - acc: 0.9167 - val_loss: 0.6104 - val_acc: 0.8333\n",
      "Epoch 15/15\n",
      "8/7 [================================] - 4s 503ms/step - loss: 0.2582 - acc: 0.9333 - val_loss: 0.6089 - val_acc: 0.8500\n"
     ]
    },
    {
     "data": {
      "text/plain": [
       "<tensorflow.python.keras.callbacks.History at 0x2241f1c8b38>"
      ]
     },
     "execution_count": 11,
     "metadata": {},
     "output_type": "execute_result"
    }
   ],
   "source": [
    "cnn.fit_generator(x_train, steps_per_epoch = 240/32, epochs = 15, validation_data = x_test, validation_steps = 60/32)"
   ]
  },
  {
   "cell_type": "code",
   "execution_count": 12,
   "metadata": {},
   "outputs": [],
   "source": [
    "cnn.save(r\"C:\\Users\\sahar\\Documents\\Externship\\fruits.h5\")"
   ]
  },
  {
   "cell_type": "code",
   "execution_count": null,
   "metadata": {},
   "outputs": [],
   "source": []
  },
  {
   "cell_type": "code",
   "execution_count": null,
   "metadata": {},
   "outputs": [],
   "source": []
  }
 ],
 "metadata": {
  "kernelspec": {
   "display_name": "Python 3",
   "language": "python",
   "name": "python3"
  },
  "language_info": {
   "codemirror_mode": {
    "name": "ipython",
    "version": 3
   },
   "file_extension": ".py",
   "mimetype": "text/x-python",
   "name": "python",
   "nbconvert_exporter": "python",
   "pygments_lexer": "ipython3",
   "version": "3.7.3"
  }
 },
 "nbformat": 4,
 "nbformat_minor": 2
}
